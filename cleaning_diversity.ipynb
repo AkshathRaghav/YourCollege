{
 "cells": [
  {
   "cell_type": "code",
   "execution_count": 1,
   "metadata": {},
   "outputs": [],
   "source": [
    "import pandas as pd\n",
    "import numpy as np"
   ]
  },
  {
   "cell_type": "code",
   "execution_count": 4,
   "metadata": {},
   "outputs": [],
   "source": [
    "diversity = pd.read_csv('data/cleaned_diversity_school.csv')"
   ]
  },
  {
   "cell_type": "code",
   "execution_count": 5,
   "metadata": {},
   "outputs": [
    {
     "data": {
      "text/html": [
       "<div>\n",
       "<style scoped>\n",
       "    .dataframe tbody tr th:only-of-type {\n",
       "        vertical-align: middle;\n",
       "    }\n",
       "\n",
       "    .dataframe tbody tr th {\n",
       "        vertical-align: top;\n",
       "    }\n",
       "\n",
       "    .dataframe thead th {\n",
       "        text-align: right;\n",
       "    }\n",
       "</style>\n",
       "<table border=\"1\" class=\"dataframe\">\n",
       "  <thead>\n",
       "    <tr style=\"text-align: right;\">\n",
       "      <th></th>\n",
       "      <th>name</th>\n",
       "      <th>Women</th>\n",
       "      <th>American Indian / Alaska Native</th>\n",
       "      <th>Asian</th>\n",
       "      <th>Black</th>\n",
       "      <th>Hispanic</th>\n",
       "      <th>Native Hawaiian / Pacific Islander</th>\n",
       "      <th>White</th>\n",
       "      <th>Two Or More Races</th>\n",
       "      <th>Unknown</th>\n",
       "      <th>Non-Resident Foreign</th>\n",
       "      <th>Total Minority</th>\n",
       "    </tr>\n",
       "  </thead>\n",
       "  <tbody>\n",
       "    <tr>\n",
       "      <th>0</th>\n",
       "      <td>University of Phoenix-Arizona</td>\n",
       "      <td>134722.0</td>\n",
       "      <td>876.0</td>\n",
       "      <td>1959.0</td>\n",
       "      <td>31455.0</td>\n",
       "      <td>13984.0</td>\n",
       "      <td>1019.0</td>\n",
       "      <td>58209.0</td>\n",
       "      <td>19039.0</td>\n",
       "      <td>65163.0</td>\n",
       "      <td>3355.0</td>\n",
       "      <td>68332.0</td>\n",
       "    </tr>\n",
       "    <tr>\n",
       "      <th>1</th>\n",
       "      <td>Ivy Tech Community College-Central Indiana</td>\n",
       "      <td>53476.0</td>\n",
       "      <td>357.0</td>\n",
       "      <td>1369.0</td>\n",
       "      <td>12370.0</td>\n",
       "      <td>5533.0</td>\n",
       "      <td>0.0</td>\n",
       "      <td>61498.0</td>\n",
       "      <td>1804.0</td>\n",
       "      <td>8224.0</td>\n",
       "      <td>24.0</td>\n",
       "      <td>21433.0</td>\n",
       "    </tr>\n",
       "    <tr>\n",
       "      <th>2</th>\n",
       "      <td>Liberty University</td>\n",
       "      <td>48329.0</td>\n",
       "      <td>447.0</td>\n",
       "      <td>856.0</td>\n",
       "      <td>14751.0</td>\n",
       "      <td>1186.0</td>\n",
       "      <td>151.0</td>\n",
       "      <td>39062.0</td>\n",
       "      <td>1772.0</td>\n",
       "      <td>22198.0</td>\n",
       "      <td>1036.0</td>\n",
       "      <td>19163.0</td>\n",
       "    </tr>\n",
       "    <tr>\n",
       "      <th>3</th>\n",
       "      <td>Lone Star College system</td>\n",
       "      <td>41268.0</td>\n",
       "      <td>168.0</td>\n",
       "      <td>4198.0</td>\n",
       "      <td>12094.0</td>\n",
       "      <td>23751.0</td>\n",
       "      <td>0.0</td>\n",
       "      <td>23615.0</td>\n",
       "      <td>1997.0</td>\n",
       "      <td>2273.0</td>\n",
       "      <td>1299.0</td>\n",
       "      <td>42208.0</td>\n",
       "    </tr>\n",
       "    <tr>\n",
       "      <th>4</th>\n",
       "      <td>Miami Dade College</td>\n",
       "      <td>38323.0</td>\n",
       "      <td>47.0</td>\n",
       "      <td>655.0</td>\n",
       "      <td>10722.0</td>\n",
       "      <td>44870.0</td>\n",
       "      <td>41.0</td>\n",
       "      <td>4170.0</td>\n",
       "      <td>226.0</td>\n",
       "      <td>1927.0</td>\n",
       "      <td>3388.0</td>\n",
       "      <td>56561.0</td>\n",
       "    </tr>\n",
       "  </tbody>\n",
       "</table>\n",
       "</div>"
      ],
      "text/plain": [
       "                                         name     Women  \\\n",
       "0               University of Phoenix-Arizona  134722.0   \n",
       "1  Ivy Tech Community College-Central Indiana   53476.0   \n",
       "2                          Liberty University   48329.0   \n",
       "3                    Lone Star College system   41268.0   \n",
       "4                          Miami Dade College   38323.0   \n",
       "\n",
       "   American Indian / Alaska Native   Asian    Black  Hispanic  \\\n",
       "0                            876.0  1959.0  31455.0   13984.0   \n",
       "1                            357.0  1369.0  12370.0    5533.0   \n",
       "2                            447.0   856.0  14751.0    1186.0   \n",
       "3                            168.0  4198.0  12094.0   23751.0   \n",
       "4                             47.0   655.0  10722.0   44870.0   \n",
       "\n",
       "   Native Hawaiian / Pacific Islander    White  Two Or More Races  Unknown  \\\n",
       "0                              1019.0  58209.0            19039.0  65163.0   \n",
       "1                                 0.0  61498.0             1804.0   8224.0   \n",
       "2                               151.0  39062.0             1772.0  22198.0   \n",
       "3                                 0.0  23615.0             1997.0   2273.0   \n",
       "4                                41.0   4170.0              226.0   1927.0   \n",
       "\n",
       "   Non-Resident Foreign  Total Minority  \n",
       "0                3355.0         68332.0  \n",
       "1                  24.0         21433.0  \n",
       "2                1036.0         19163.0  \n",
       "3                1299.0         42208.0  \n",
       "4                3388.0         56561.0  "
      ]
     },
     "execution_count": 5,
     "metadata": {},
     "output_type": "execute_result"
    }
   ],
   "source": [
    "diversity.head()"
   ]
  },
  {
   "cell_type": "code",
   "execution_count": 6,
   "metadata": {},
   "outputs": [],
   "source": [
    "columns = ['Women', 'American Indian / Alaska Native', 'Asian', 'Black',\n",
    "       'Hispanic', 'Native Hawaiian / Pacific Islander', 'White',\n",
    "       'Two Or More Races', 'Unknown', 'Non-Resident Foreign',\n",
    "       'Total Minority']"
   ]
  },
  {
   "cell_type": "code",
   "execution_count": 41,
   "metadata": {},
   "outputs": [
    {
     "data": {
      "text/html": [
       "<div>\n",
       "<style scoped>\n",
       "    .dataframe tbody tr th:only-of-type {\n",
       "        vertical-align: middle;\n",
       "    }\n",
       "\n",
       "    .dataframe tbody tr th {\n",
       "        vertical-align: top;\n",
       "    }\n",
       "\n",
       "    .dataframe thead th {\n",
       "        text-align: right;\n",
       "    }\n",
       "</style>\n",
       "<table border=\"1\" class=\"dataframe\">\n",
       "  <thead>\n",
       "    <tr style=\"text-align: right;\">\n",
       "      <th></th>\n",
       "      <th>name</th>\n",
       "      <th>Women</th>\n",
       "      <th>American Indian / Alaska Native</th>\n",
       "      <th>Asian</th>\n",
       "      <th>Black</th>\n",
       "      <th>Hispanic</th>\n",
       "      <th>Native Hawaiian / Pacific Islander</th>\n",
       "      <th>White</th>\n",
       "      <th>Two Or More Races</th>\n",
       "      <th>Unknown</th>\n",
       "      <th>Non-Resident Foreign</th>\n",
       "      <th>Total Minority</th>\n",
       "    </tr>\n",
       "  </thead>\n",
       "  <tbody>\n",
       "    <tr>\n",
       "      <th>85</th>\n",
       "      <td>NaN</td>\n",
       "      <td>NaN</td>\n",
       "      <td>NaN</td>\n",
       "      <td>NaN</td>\n",
       "      <td>NaN</td>\n",
       "      <td>NaN</td>\n",
       "      <td>NaN</td>\n",
       "      <td>NaN</td>\n",
       "      <td>NaN</td>\n",
       "      <td>NaN</td>\n",
       "      <td>NaN</td>\n",
       "      <td>NaN</td>\n",
       "    </tr>\n",
       "  </tbody>\n",
       "</table>\n",
       "</div>"
      ],
      "text/plain": [
       "   name  Women  American Indian / Alaska Native  Asian  Black  Hispanic  \\\n",
       "85  NaN    NaN                              NaN    NaN    NaN       NaN   \n",
       "\n",
       "    Native Hawaiian / Pacific Islander  White  Two Or More Races  Unknown  \\\n",
       "85                                 NaN    NaN                NaN      NaN   \n",
       "\n",
       "    Non-Resident Foreign  Total Minority  \n",
       "85                   NaN             NaN  "
      ]
     },
     "execution_count": 41,
     "metadata": {},
     "output_type": "execute_result"
    }
   ],
   "source": [
    "diversity.loc[diversity['Total Minority'].isna()]"
   ]
  },
  {
   "cell_type": "code",
   "execution_count": 25,
   "metadata": {},
   "outputs": [
    {
     "data": {
      "text/plain": [
       "name                                  NaN\n",
       "Women                                 NaN\n",
       "American Indian / Alaska Native       NaN\n",
       "Asian                                 NaN\n",
       "Black                                 NaN\n",
       "Hispanic                              NaN\n",
       "Native Hawaiian / Pacific Islander    NaN\n",
       "White                                 NaN\n",
       "Two Or More Races                     NaN\n",
       "Unknown                               NaN\n",
       "Non-Resident Foreign                  NaN\n",
       "Total Minority                        NaN\n",
       "Name: 85, dtype: object"
      ]
     },
     "execution_count": 25,
     "metadata": {},
     "output_type": "execute_result"
    }
   ],
   "source": [
    "diversity.iloc[85]"
   ]
  },
  {
   "cell_type": "code",
   "execution_count": 44,
   "metadata": {},
   "outputs": [],
   "source": [
    "diversity = diversity.drop(axis=0,index=85)"
   ]
  },
  {
   "cell_type": "code",
   "execution_count": 46,
   "metadata": {},
   "outputs": [
    {
     "data": {
      "text/plain": [
       "name                                  Florida Atlantic University\n",
       "Women                                                     17277.0\n",
       "American Indian / Alaska Native                              57.0\n",
       "Asian                                                      1318.0\n",
       "Black                                                      5678.0\n",
       "Hispanic                                                   7255.0\n",
       "Native Hawaiian / Pacific Islander                           36.0\n",
       "White                                                     14031.0\n",
       "Two Or More Races                                           924.0\n",
       "Unknown                                                     260.0\n",
       "Non-Resident Foreign                                        738.0\n",
       "Total Minority                                            15268.0\n",
       "Name: 84, dtype: object"
      ]
     },
     "execution_count": 46,
     "metadata": {},
     "output_type": "execute_result"
    }
   ],
   "source": [
    "diversity.iloc[84]"
   ]
  },
  {
   "cell_type": "code",
   "execution_count": 47,
   "metadata": {},
   "outputs": [],
   "source": [
    "diversity.to_csv('data/cleaned_diversity_school.csv', index=False)"
   ]
  },
  {
   "cell_type": "code",
   "execution_count": null,
   "metadata": {},
   "outputs": [],
   "source": []
  },
  {
   "cell_type": "code",
   "execution_count": null,
   "metadata": {},
   "outputs": [],
   "source": []
  },
  {
   "cell_type": "code",
   "execution_count": null,
   "metadata": {},
   "outputs": [],
   "source": []
  },
  {
   "cell_type": "code",
   "execution_count": null,
   "metadata": {},
   "outputs": [],
   "source": []
  },
  {
   "cell_type": "code",
   "execution_count": null,
   "metadata": {},
   "outputs": [],
   "source": []
  },
  {
   "cell_type": "code",
   "execution_count": null,
   "metadata": {},
   "outputs": [],
   "source": []
  },
  {
   "cell_type": "code",
   "execution_count": null,
   "metadata": {},
   "outputs": [],
   "source": []
  },
  {
   "cell_type": "code",
   "execution_count": null,
   "metadata": {},
   "outputs": [],
   "source": []
  },
  {
   "cell_type": "code",
   "execution_count": null,
   "metadata": {},
   "outputs": [],
   "source": []
  },
  {
   "cell_type": "code",
   "execution_count": null,
   "metadata": {},
   "outputs": [],
   "source": []
  },
  {
   "cell_type": "code",
   "execution_count": null,
   "metadata": {},
   "outputs": [],
   "source": []
  },
  {
   "cell_type": "code",
   "execution_count": null,
   "metadata": {},
   "outputs": [],
   "source": []
  },
  {
   "cell_type": "code",
   "execution_count": null,
   "metadata": {},
   "outputs": [],
   "source": []
  },
  {
   "cell_type": "code",
   "execution_count": null,
   "metadata": {},
   "outputs": [],
   "source": []
  },
  {
   "cell_type": "code",
   "execution_count": null,
   "metadata": {},
   "outputs": [],
   "source": []
  },
  {
   "cell_type": "code",
   "execution_count": null,
   "metadata": {},
   "outputs": [],
   "source": []
  },
  {
   "cell_type": "code",
   "execution_count": null,
   "metadata": {},
   "outputs": [],
   "source": []
  },
  {
   "cell_type": "code",
   "execution_count": null,
   "metadata": {},
   "outputs": [],
   "source": []
  },
  {
   "cell_type": "code",
   "execution_count": null,
   "metadata": {},
   "outputs": [],
   "source": []
  },
  {
   "cell_type": "code",
   "execution_count": null,
   "metadata": {},
   "outputs": [],
   "source": []
  },
  {
   "cell_type": "code",
   "execution_count": null,
   "metadata": {},
   "outputs": [],
   "source": []
  }
 ],
 "metadata": {
  "kernelspec": {
   "display_name": "homl3",
   "language": "python",
   "name": "python3"
  },
  "language_info": {
   "codemirror_mode": {
    "name": "ipython",
    "version": 3
   },
   "file_extension": ".py",
   "mimetype": "text/x-python",
   "name": "python",
   "nbconvert_exporter": "python",
   "pygments_lexer": "ipython3",
   "version": "3.10.8 | packaged by conda-forge | (main, Nov 22 2022, 08:26:04) [GCC 10.4.0]"
  },
  "orig_nbformat": 4,
  "vscode": {
   "interpreter": {
    "hash": "cb11495483f8bc9329e70cd93d4d6000fab5e0ef74cd85abb85772776aaa6b42"
   }
  }
 },
 "nbformat": 4,
 "nbformat_minor": 2
}
